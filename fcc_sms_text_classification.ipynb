{
  "nbformat": 4,
  "nbformat_minor": 0,
  "metadata": {
    "colab": {
      "provenance": [],
      "collapsed_sections": [],
      "authorship_tag": "ABX9TyPprtd8+ieiFMbp585OtYZr",
      "include_colab_link": true
    },
    "kernelspec": {
      "name": "python3",
      "display_name": "Python 3"
    },
    "language_info": {
      "name": "python"
    },
    "accelerator": "GPU",
    "gpuClass": "standard"
  },
  "cells": [
    {
      "cell_type": "markdown",
      "metadata": {
        "id": "view-in-github",
        "colab_type": "text"
      },
      "source": [
        "<a href=\"https://colab.research.google.com/github/gigihsantoso/Neural-Network-SMS-Text-Classifier/blob/main/fcc_sms_text_classification.ipynb\" target=\"_parent\"><img src=\"https://colab.research.google.com/assets/colab-badge.svg\" alt=\"Open In Colab\"/></a>"
      ]
    },
    {
      "cell_type": "code",
      "execution_count": null,
      "metadata": {
        "colab": {
          "base_uri": "https://localhost:8080/"
        },
        "id": "W6ukKVPTzOL0",
        "outputId": "1d1905c8-e5ee-4e8d-8c17-3b76699e3471"
      },
      "outputs": [
        {
          "output_type": "stream",
          "name": "stdout",
          "text": [
            "--2022-09-05 22:29:57--  https://cdn.freecodecamp.org/project-data/sms/train-data.tsv\n",
            "Resolving cdn.freecodecamp.org (cdn.freecodecamp.org)... 172.67.70.149, 104.26.3.33, 104.26.2.33, ...\n",
            "Connecting to cdn.freecodecamp.org (cdn.freecodecamp.org)|172.67.70.149|:443... connected.\n",
            "HTTP request sent, awaiting response... 200 OK\n",
            "Length: 358233 (350K) [text/tab-separated-values]\n",
            "Saving to: ‘train-data.tsv.2’\n",
            "\n",
            "\rtrain-data.tsv.2      0%[                    ]       0  --.-KB/s               \rtrain-data.tsv.2    100%[===================>] 349.84K  --.-KB/s    in 0.004s  \n",
            "\n",
            "2022-09-05 22:29:57 (82.6 MB/s) - ‘train-data.tsv.2’ saved [358233/358233]\n",
            "\n",
            "--2022-09-05 22:29:57--  https://cdn.freecodecamp.org/project-data/sms/valid-data.tsv\n",
            "Resolving cdn.freecodecamp.org (cdn.freecodecamp.org)... 172.67.70.149, 104.26.3.33, 104.26.2.33, ...\n",
            "Connecting to cdn.freecodecamp.org (cdn.freecodecamp.org)|172.67.70.149|:443... connected.\n",
            "HTTP request sent, awaiting response... 200 OK\n",
            "Length: 118774 (116K) [text/tab-separated-values]\n",
            "Saving to: ‘valid-data.tsv.2’\n",
            "\n",
            "valid-data.tsv.2    100%[===================>] 115.99K  --.-KB/s    in 0.01s   \n",
            "\n",
            "2022-09-05 22:29:58 (8.99 MB/s) - ‘valid-data.tsv.2’ saved [118774/118774]\n",
            "\n"
          ]
        }
      ],
      "source": [
        "!wget https://cdn.freecodecamp.org/project-data/sms/train-data.tsv\n",
        "!wget https://cdn.freecodecamp.org/project-data/sms/valid-data.tsv"
      ]
    },
    {
      "cell_type": "code",
      "source": [
        "import tensorflow as tf\n",
        "import matplotlib.pyplot as plt\n",
        "import numpy as np\n",
        "import pandas as pd"
      ],
      "metadata": {
        "id": "G1oRK47IzaWy"
      },
      "execution_count": null,
      "outputs": []
    },
    {
      "cell_type": "code",
      "source": [
        "train = pd.read_table('train-data.tsv', header=None, skiprows=2)\n",
        "valid = pd.read_table('valid-data.tsv', header=None, skiprows=2)"
      ],
      "metadata": {
        "id": "svtgbaBLzfvy"
      },
      "execution_count": null,
      "outputs": []
    },
    {
      "cell_type": "code",
      "source": [
        "def labeling(x: tf.Tensor):\n",
        "  label =  0 if x == \"ham\" else 1\n",
        "  return tf.cast(tf.reshape(label, [1]), tf.int64)"
      ],
      "metadata": {
        "id": "5JcEUO31w8b8"
      },
      "execution_count": null,
      "outputs": []
    },
    {
      "cell_type": "code",
      "source": [
        "def dataframe_to_dataset(data, batch_size=32):\n",
        "  df = data.copy()\n",
        "  features = {'text': tf.expand_dims(df.pop(1), axis=-1)}\n",
        "  labels = tf.expand_dims(df.pop(0), axis=-1)\n",
        "  ds = tf.data.Dataset.from_tensor_slices((features, labels))\n",
        "  ds = ds.map(lambda x,  y: (x, tf.py_function(func=labeling, inp=[y], Tout=tf.int64) ))\n",
        "  ds = ds.batch(batch_size)\n",
        "  ds = ds.prefetch(tf.data.AUTOTUNE)\n",
        "  return ds"
      ],
      "metadata": {
        "id": "hEbMTYZIwZqA"
      },
      "execution_count": null,
      "outputs": []
    },
    {
      "cell_type": "code",
      "source": [
        "def text_to_vector(name, dataset, vocab):\n",
        "  feature_dataset = dataset.map(lambda x,y: x[name])\n",
        "  layer = tf.keras.layers.TextVectorization(\n",
        "      max_tokens = vocab,\n",
        "      standardize = \"lower_and_strip_punctuation\",\n",
        "      pad_to_max_tokens=True,\n",
        "      split = \"whitespace\",\n",
        "      output_sequence_length=128,\n",
        "      ngrams=(1,1),\n",
        "      output_mode = \"int\"\n",
        "  )\n",
        "  layer.adapt(feature_dataset)\n",
        "\n",
        "  return layer"
      ],
      "metadata": {
        "id": "Efw0sYOLxXad"
      },
      "execution_count": null,
      "outputs": []
    },
    {
      "cell_type": "code",
      "source": [
        "batch_size = 4\n",
        "vocabSize = 10000\n",
        "train_ds = dataframe_to_dataset(train, batch_size=batch_size)\n",
        "valid_ds = dataframe_to_dataset(valid, batch_size=batch_size)"
      ],
      "metadata": {
        "id": "wnJLH4ekqZr4"
      },
      "execution_count": null,
      "outputs": []
    },
    {
      "cell_type": "code",
      "source": [
        "  input = tf.keras.Input(shape=(1,), name='text', dtype=\"string\")\n",
        "  vector_layer = text_to_vector(name='text', dataset=train_ds, vocab=vocabSize)\n",
        "  vector_preprocessor = vector_layer(input)"
      ],
      "metadata": {
        "id": "KrPFIc5e_zR9"
      },
      "execution_count": null,
      "outputs": []
    },
    {
      "cell_type": "code",
      "source": [
        "all_features = tf.keras.layers.Embedding(vocabSize, 128, mask_zero=True)(vector_preprocessor)\n",
        "x = tf.keras.layers.Bidirectional(tf.keras.layers.LSTM(128, dropout=0.2, return_sequences=True))(all_features)\n",
        "x = tf.keras.layers.Bidirectional(tf.keras.layers.LSTM(64, dropout=0.2))(x)\n",
        "x = tf.keras.layers.Dense(64, activation=tf.keras.activations.relu)(x)\n",
        "x = tf.keras.layers.Dropout(0.2)(x)\n",
        "output = tf.keras.layers.Dense(1, activation=tf.keras.activations.sigmoid)(x)\n",
        "model = tf.keras.Model(input, output)"
      ],
      "metadata": {
        "id": "pL3zK3pmAPls"
      },
      "execution_count": null,
      "outputs": []
    },
    {
      "cell_type": "code",
      "source": [
        "tf.keras.utils.plot_model(model, show_shapes=True, rankdir=\"LR\")"
      ],
      "metadata": {
        "colab": {
          "base_uri": "https://localhost:8080/",
          "height": 108
        },
        "id": "qJojOKOYC4_r",
        "outputId": "c1773d56-03ad-488e-829f-3b1e24d54759"
      },
      "execution_count": null,
      "outputs": [
        {
          "output_type": "execute_result",
          "data": {
            "image/png": "[encoded data removed]",
            "text/plain": [
              "<IPython.core.display.Image object>"
            ]
          },
          "metadata": {},
          "execution_count": 41
        }
      ]
    },
    {
      "cell_type": "code",
      "source": [
        "METRICS = [\n",
        "      tf.keras.metrics.TruePositives(name='tp'),\n",
        "      tf.keras.metrics.FalsePositives(name='fp'),\n",
        "      tf.keras.metrics.TrueNegatives(name='tn'),\n",
        "      tf.keras.metrics.FalseNegatives(name='fn'), \n",
        "      tf.keras.metrics.BinaryAccuracy(name='accuracy'),\n",
        "      tf.keras.metrics.Precision(name='precision'),\n",
        "      tf.keras.metrics.Recall(name='recall'),\n",
        "      tf.keras.metrics.SensitivityAtSpecificity(0.5, name='specificity')\n",
        "]\n",
        "model.compile(\n",
        "  optimizer=tf.keras.optimizers.Adam(learning_rate=0.001),\n",
        "  loss=tf.keras.losses.BinaryCrossentropy(),\n",
        "  metrics=METRICS)"
      ],
      "metadata": {
        "id": "oKgwyXQKpLmM"
      },
      "execution_count": null,
      "outputs": []
    },
    {
      "cell_type": "code",
      "source": [
        "loss = tf.keras.callbacks.EarlyStopping(monitor='loss', patience=5, restore_best_weights=True)\n",
        "val_loss = tf.keras.callbacks.EarlyStopping(monitor='val_loss', patience=5, restore_best_weights=True)\n",
        "\n",
        "history = model.fit(train_ds, epochs=20, validation_data=valid_ds, callbacks=[loss, val_loss])"
      ],
      "metadata": {
        "colab": {
          "base_uri": "https://localhost:8080/"
        },
        "id": "hgHfCHYrvKCb",
        "outputId": "4511e266-e59c-4d58-dd5c-e530908cb5ab"
      },
      "execution_count": null,
      "outputs": [
        {
          "output_type": "stream",
          "name": "stdout",
          "text": [
            "Epoch 1/20\n",
            "1045/1045 [==============================] - 69s 50ms/step - loss: 0.1360 - tp: 435.0000 - fp: 57.0000 - tn: 3560.0000 - fn: 125.0000 - accuracy: 0.9564 - precision: 0.8841 - recall: 0.7768 - specificity: 0.9768 - val_loss: 0.0585 - val_tp: 172.0000 - val_fp: 7.0000 - val_tn: 1196.0000 - val_fn: 15.0000 - val_accuracy: 0.9842 - val_precision: 0.9609 - val_recall: 0.9198 - val_specificity: 0.9893\n",
            "Epoch 2/20\n",
            "1045/1045 [==============================] - 48s 46ms/step - loss: 0.0262 - tp: 539.0000 - fp: 11.0000 - tn: 3606.0000 - fn: 21.0000 - accuracy: 0.9923 - precision: 0.9800 - recall: 0.9625 - specificity: 0.9964 - val_loss: 0.0616 - val_tp: 171.0000 - val_fp: 10.0000 - val_tn: 1193.0000 - val_fn: 16.0000 - val_accuracy: 0.9813 - val_precision: 0.9448 - val_recall: 0.9144 - val_specificity: 0.9733\n",
            "Epoch 3/20\n",
            "1045/1045 [==============================] - 49s 47ms/step - loss: 0.0105 - tp: 552.0000 - fp: 3.0000 - tn: 3614.0000 - fn: 8.0000 - accuracy: 0.9974 - precision: 0.9946 - recall: 0.9857 - specificity: 0.9982 - val_loss: 0.0837 - val_tp: 174.0000 - val_fp: 15.0000 - val_tn: 1188.0000 - val_fn: 13.0000 - val_accuracy: 0.9799 - val_precision: 0.9206 - val_recall: 0.9305 - val_specificity: 0.9840\n",
            "Epoch 4/20\n",
            "1045/1045 [==============================] - 49s 47ms/step - loss: 0.0146 - tp: 550.0000 - fp: 9.0000 - tn: 3608.0000 - fn: 10.0000 - accuracy: 0.9955 - precision: 0.9839 - recall: 0.9821 - specificity: 0.9964 - val_loss: 0.1270 - val_tp: 180.0000 - val_fp: 45.0000 - val_tn: 1158.0000 - val_fn: 7.0000 - val_accuracy: 0.9626 - val_precision: 0.8000 - val_recall: 0.9626 - val_specificity: 0.9626\n",
            "Epoch 5/20\n",
            "1045/1045 [==============================] - 49s 47ms/step - loss: 0.0234 - tp: 550.0000 - fp: 16.0000 - tn: 3601.0000 - fn: 10.0000 - accuracy: 0.9938 - precision: 0.9717 - recall: 0.9821 - specificity: 0.9929 - val_loss: 0.0982 - val_tp: 170.0000 - val_fp: 28.0000 - val_tn: 1175.0000 - val_fn: 17.0000 - val_accuracy: 0.9676 - val_precision: 0.8586 - val_recall: 0.9091 - val_specificity: 1.0000\n",
            "Epoch 6/20\n",
            "1045/1045 [==============================] - 49s 47ms/step - loss: 0.0177 - tp: 548.0000 - fp: 7.0000 - tn: 3610.0000 - fn: 12.0000 - accuracy: 0.9955 - precision: 0.9874 - recall: 0.9786 - specificity: 0.9964 - val_loss: 0.1000 - val_tp: 167.0000 - val_fp: 11.0000 - val_tn: 1192.0000 - val_fn: 20.0000 - val_accuracy: 0.9777 - val_precision: 0.9382 - val_recall: 0.8930 - val_specificity: 0.9465\n"
          ]
        }
      ]
    },
    {
      "cell_type": "code",
      "source": [
        "# function to predict messages based on model\n",
        "# (should return list containing prediction and label, ex. [0.008318834938108921, 'ham'])\n",
        "def predict_message(pred_text):\n",
        "  input_dict = {'text': tf.convert_to_tensor([pred_text])}\n",
        "  predic = model.predict(input_dict)\n",
        "  prediction = [predic[0][0], \"ham\" if predic[0][0] < 0.5 else \"spam\"] \n",
        "  return (prediction)\n",
        "\n",
        "pred_text = \"how are you doing today?\"\n",
        "\n",
        "prediction = predict_message(pred_text)\n",
        "print(prediction)"
      ],
      "metadata": {
        "colab": {
          "base_uri": "https://localhost:8080/"
        },
        "id": "3Yuu9DkkwH0K",
        "outputId": "050950e2-0161-48dc-a138-e152a49edbc2"
      },
      "execution_count": null,
      "outputs": [
        {
          "output_type": "stream",
          "name": "stdout",
          "text": [
            "[0.00028665725, 'ham']\n"
          ]
        }
      ]
    },
    {
      "cell_type": "code",
      "source": [
        "# Run this cell to test your function and model. Do not modify contents.\n",
        "def test_predictions():\n",
        "  test_messages = [\"how are you doing today\",\n",
        "                   \"sale today! to stop texts call 98912460324\",\n",
        "                   \"i dont want to go. can we try it a different day? available sat\",\n",
        "                   \"our new mobile video service is live. just install on your phone to start watching.\",\n",
        "                   \"you have won £1000 cash! call to claim your prize.\",\n",
        "                   \"i'll bring it tomorrow. don't forget the milk.\",\n",
        "                   \"wow, is your arm alright. that happened to me one time too\"\n",
        "                  ]\n",
        "\n",
        "  test_answers = [\"ham\", \"spam\", \"ham\", \"spam\", \"spam\", \"ham\", \"ham\"]\n",
        "  passed = True\n",
        "\n",
        "  for msg, ans in zip(test_messages, test_answers):\n",
        "    prediction = predict_message(msg)\n",
        "    if prediction[1] != ans:\n",
        "      passed = False\n",
        "\n",
        "  if passed:\n",
        "    print(\"You passed the challenge. Great job!\")\n",
        "  else:\n",
        "    print(\"You haven't passed yet. Keep trying.\")\n",
        "\n",
        "test_predictions()\n"
      ],
      "metadata": {
        "colab": {
          "base_uri": "https://localhost:8080/"
        },
        "id": "Xc-zt74ZwKq-",
        "outputId": "67dcf792-7545-4473-aa00-d0d276c541e0"
      },
      "execution_count": null,
      "outputs": [
        {
          "output_type": "stream",
          "name": "stdout",
          "text": [
            "You passed the challenge. Great job!\n"
          ]
        }
      ]
    }
  ]
}